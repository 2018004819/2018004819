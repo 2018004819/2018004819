{
 "cells": [
  {
   "cell_type": "code",
   "execution_count": 1,
   "id": "adc73893",
   "metadata": {},
   "outputs": [],
   "source": [
    "import librosa\n",
    "import soundfile\n",
    "import os, glob, pickle\n",
    "import numpy as np\n",
    "import emoji\n",
    "from sklearn.model_selection import train_test_split\n",
    "from sklearn.neural_network import MLPClassifier\n",
    "from sklearn.metrics import accuracy_score\n",
    "from sklearn.metrics import accuracy_score, f1_score\n",
    "import warnings\n",
    "warnings.simplefilter(action='ignore', category=FutureWarning)"
   ]
  },
  {
   "cell_type": "code",
   "execution_count": 2,
   "id": "e92057b1",
   "metadata": {},
   "outputs": [
    {
     "name": "stdout",
     "output_type": "stream",
     "text": [
      "(24, 8)\n",
      "Features extracted: 180\n",
      "Accuracy: 100.00%\n"
     ]
    }
   ],
   "source": [
    "def extract_feature(file_name, mfcc, chroma, mel):\n",
    "    with soundfile.SoundFile(file_name) as sound_file:\n",
    "        X = sound_file.read(dtype=\"float32\")\n",
    "        sample_rate=sound_file.samplerate\n",
    "        if chroma:\n",
    "            stft=np.abs(librosa.stft(X))\n",
    "        result=np.array([])\n",
    "        if mfcc:\n",
    "            mfccs=np.mean(librosa.feature.mfcc(y=X, sr=sample_rate, n_mfcc=40).T, axis=0)\n",
    "            result=np.hstack((result, mfccs))\n",
    "        if chroma:\n",
    "            chroma=np.mean(librosa.feature.chroma_stft(S=stft, sr=sample_rate).T,axis=0)\n",
    "            result=np.hstack((result, chroma))\n",
    "        if mel:\n",
    "            mel=np.mean(librosa.feature.melspectrogram(X, sr=sample_rate).T,axis=0)\n",
    "            result=np.hstack((result, mel))\n",
    "    return result\n",
    "emotions={\n",
    "  '01':'neutral',\n",
    "  '02':'calm',\n",
    "  '03':'happy',\n",
    "  '04':'sad',\n",
    "  '05':'angry',\n",
    "  '06':'fearful',\n",
    "  '07':'disgust',\n",
    "  '08':'surprised'\n",
    "}\n",
    "\n",
    "#Emotions to observe\n",
    "observed_emotions=['calm', 'happy', 'fearful', 'disgust']\n",
    "def load_data(test_size=0.2):\n",
    "    x,y=[],[]\n",
    "    for file in glob.glob(\"E:\\\\DataFlair\\\\ravdess data\\\\Actor_01*\\\\*.wav\"):\n",
    "        file_name=os.path.basename(file)\n",
    "        emotion=emotions[file_name.split(\"-\")[2]]\n",
    "        if emotion not in observed_emotions:\n",
    "            continue\n",
    "        feature=extract_feature(file, mfcc=True, chroma=True, mel=True)\n",
    "        x.append(feature)\n",
    "        y.append(emotion)\n",
    "    return train_test_split(np.array(x), y, test_size=test_size, random_state=9)\n",
    "x_train,x_test,y_train,y_test=load_data(test_size=0.25)\n",
    "print((x_train.shape[0], x_test.shape[0]))\n",
    "print(f'Features extracted: {x_train.shape[1]}')\n",
    "model=MLPClassifier(alpha=0.01,max_iter=500)\n",
    "model.fit(x_train,y_train)\n",
    "y_pred=model.predict(x_test)\n",
    "accuracy=accuracy_score(y_true=y_test, y_pred=y_pred)\n",
    "\n",
    "#Print the accuracy\n",
    "print(\"Accuracy: {:.2f}%\".format(accuracy*100))\n",
    "f1_score(y_test, y_pred,average=None)\n",
    "with open( 'modelForPrediction1.sav', 'wb') as f:\n",
    "    pickle.dump(model,f)\n",
    "filename = 'modelForPrediction1.sav'\n",
    "loaded_model = pickle.load(open(filename, 'rb')) # loading the model file from the storage\n"
   ]
  },
  {
   "cell_type": "code",
   "execution_count": 3,
   "id": "be84d525",
   "metadata": {},
   "outputs": [
    {
     "name": "stdout",
     "output_type": "stream",
     "text": [
      "calm\n",
      "😌\n"
     ]
    }
   ],
   "source": [
    "feature=extract_feature(\"E:\\\\DataFlair\\\\ravdess data\\\\Actor_01/03-01-01-01-01-01-01.wav\", mfcc=True, chroma=True, mel=True)\n",
    "\n",
    "feature=feature.reshape(1,-1)\n",
    "\n",
    "prediction=loaded_model.predict(feature)\n",
    "print(prediction[0])\n",
    "str1=prediction[0]\n",
    "\n",
    "if \"calm\"==str1:\n",
    "    print(u'\\U0001f60c')\n",
    "elif \"happy\"==str1:\n",
    "    print(u\"\\U0001F600\")\n",
    "elif \"fearful\"==str1:\n",
    "    print(u\"\\U0001F631\")\n",
    "elif \"disgust\"==str1:\n",
    "    print(u\"\\U0001F61E\")\n",
    "\n",
    "\n",
    "\n",
    "\n",
    "\n"
   ]
  },
  {
   "cell_type": "code",
   "execution_count": null,
   "id": "827c76d4",
   "metadata": {},
   "outputs": [],
   "source": []
  }
 ],
 "metadata": {
  "kernelspec": {
   "display_name": "Python 3 (ipykernel)",
   "language": "python",
   "name": "python3"
  },
  "language_info": {
   "codemirror_mode": {
    "name": "ipython",
    "version": 3
   },
   "file_extension": ".py",
   "mimetype": "text/x-python",
   "name": "python",
   "nbconvert_exporter": "python",
   "pygments_lexer": "ipython3",
   "version": "3.10.4"
  }
 },
 "nbformat": 4,
 "nbformat_minor": 5
}
